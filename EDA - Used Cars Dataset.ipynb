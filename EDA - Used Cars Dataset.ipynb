{
 "cells": [
  {
   "cell_type": "markdown",
   "id": "6090d7eb",
   "metadata": {},
   "source": [
    "# EDA - Used Cars Dataset"
   ]
  },
  {
   "cell_type": "markdown",
   "id": "40b06c4c",
   "metadata": {},
   "source": [
    "### Loading Libraries"
   ]
  },
  {
   "cell_type": "code",
   "execution_count": 1,
   "id": "690ead21",
   "metadata": {},
   "outputs": [],
   "source": [
    "import pandas as pd\n",
    "import numpy as np\n",
    "import matplotlib.pyplot as plt\n",
    "import seaborn as sns\n",
    "import datetime\n",
    "\n",
    "from sklearn.preprocessing import StandardScaler"
   ]
  },
  {
   "cell_type": "markdown",
   "id": "9da8be09",
   "metadata": {},
   "source": [
    "## 1. Loading data"
   ]
  },
  {
   "cell_type": "code",
   "execution_count": 2,
   "id": "5ec0824c",
   "metadata": {},
   "outputs": [],
   "source": [
    "data = pd.read_csv(\"used_cars.csv\")"
   ]
  },
  {
   "cell_type": "code",
   "execution_count": 3,
   "id": "3d69ae3f",
   "metadata": {},
   "outputs": [
    {
     "data": {
      "text/plain": [
       "(4009, 12)"
      ]
     },
     "execution_count": 3,
     "metadata": {},
     "output_type": "execute_result"
    }
   ],
   "source": [
    "data.shape"
   ]
  },
  {
   "cell_type": "code",
   "execution_count": 4,
   "id": "b5d57a4a",
   "metadata": {},
   "outputs": [
    {
     "data": {
      "text/html": [
       "<div>\n",
       "<style scoped>\n",
       "    .dataframe tbody tr th:only-of-type {\n",
       "        vertical-align: middle;\n",
       "    }\n",
       "\n",
       "    .dataframe tbody tr th {\n",
       "        vertical-align: top;\n",
       "    }\n",
       "\n",
       "    .dataframe thead th {\n",
       "        text-align: right;\n",
       "    }\n",
       "</style>\n",
       "<table border=\"1\" class=\"dataframe\">\n",
       "  <thead>\n",
       "    <tr style=\"text-align: right;\">\n",
       "      <th></th>\n",
       "      <th>brand</th>\n",
       "      <th>model</th>\n",
       "      <th>model_year</th>\n",
       "      <th>milage</th>\n",
       "      <th>fuel_type</th>\n",
       "      <th>engine</th>\n",
       "      <th>transmission</th>\n",
       "      <th>ext_col</th>\n",
       "      <th>int_col</th>\n",
       "      <th>accident</th>\n",
       "      <th>clean_title</th>\n",
       "      <th>price</th>\n",
       "    </tr>\n",
       "  </thead>\n",
       "  <tbody>\n",
       "    <tr>\n",
       "      <th>0</th>\n",
       "      <td>Ford</td>\n",
       "      <td>Utility Police Interceptor Base</td>\n",
       "      <td>2013</td>\n",
       "      <td>51,000 mi.</td>\n",
       "      <td>E85 Flex Fuel</td>\n",
       "      <td>300.0HP 3.7L V6 Cylinder Engine Flex Fuel Capa...</td>\n",
       "      <td>6-Speed A/T</td>\n",
       "      <td>Black</td>\n",
       "      <td>Black</td>\n",
       "      <td>At least 1 accident or damage reported</td>\n",
       "      <td>Yes</td>\n",
       "      <td>$10,300</td>\n",
       "    </tr>\n",
       "    <tr>\n",
       "      <th>1</th>\n",
       "      <td>Hyundai</td>\n",
       "      <td>Palisade SEL</td>\n",
       "      <td>2021</td>\n",
       "      <td>34,742 mi.</td>\n",
       "      <td>Gasoline</td>\n",
       "      <td>3.8L V6 24V GDI DOHC</td>\n",
       "      <td>8-Speed Automatic</td>\n",
       "      <td>Moonlight Cloud</td>\n",
       "      <td>Gray</td>\n",
       "      <td>At least 1 accident or damage reported</td>\n",
       "      <td>Yes</td>\n",
       "      <td>$38,005</td>\n",
       "    </tr>\n",
       "    <tr>\n",
       "      <th>2</th>\n",
       "      <td>Lexus</td>\n",
       "      <td>RX 350 RX 350</td>\n",
       "      <td>2022</td>\n",
       "      <td>22,372 mi.</td>\n",
       "      <td>Gasoline</td>\n",
       "      <td>3.5 Liter DOHC</td>\n",
       "      <td>Automatic</td>\n",
       "      <td>Blue</td>\n",
       "      <td>Black</td>\n",
       "      <td>None reported</td>\n",
       "      <td>NaN</td>\n",
       "      <td>$54,598</td>\n",
       "    </tr>\n",
       "    <tr>\n",
       "      <th>3</th>\n",
       "      <td>INFINITI</td>\n",
       "      <td>Q50 Hybrid Sport</td>\n",
       "      <td>2015</td>\n",
       "      <td>88,900 mi.</td>\n",
       "      <td>Hybrid</td>\n",
       "      <td>354.0HP 3.5L V6 Cylinder Engine Gas/Electric H...</td>\n",
       "      <td>7-Speed A/T</td>\n",
       "      <td>Black</td>\n",
       "      <td>Black</td>\n",
       "      <td>None reported</td>\n",
       "      <td>Yes</td>\n",
       "      <td>$15,500</td>\n",
       "    </tr>\n",
       "    <tr>\n",
       "      <th>4</th>\n",
       "      <td>Audi</td>\n",
       "      <td>Q3 45 S line Premium Plus</td>\n",
       "      <td>2021</td>\n",
       "      <td>9,835 mi.</td>\n",
       "      <td>Gasoline</td>\n",
       "      <td>2.0L I4 16V GDI DOHC Turbo</td>\n",
       "      <td>8-Speed Automatic</td>\n",
       "      <td>Glacier White Metallic</td>\n",
       "      <td>Black</td>\n",
       "      <td>None reported</td>\n",
       "      <td>NaN</td>\n",
       "      <td>$34,999</td>\n",
       "    </tr>\n",
       "  </tbody>\n",
       "</table>\n",
       "</div>"
      ],
      "text/plain": [
       "      brand                            model  model_year      milage  \\\n",
       "0      Ford  Utility Police Interceptor Base        2013  51,000 mi.   \n",
       "1   Hyundai                     Palisade SEL        2021  34,742 mi.   \n",
       "2     Lexus                    RX 350 RX 350        2022  22,372 mi.   \n",
       "3  INFINITI                 Q50 Hybrid Sport        2015  88,900 mi.   \n",
       "4      Audi        Q3 45 S line Premium Plus        2021   9,835 mi.   \n",
       "\n",
       "       fuel_type                                             engine  \\\n",
       "0  E85 Flex Fuel  300.0HP 3.7L V6 Cylinder Engine Flex Fuel Capa...   \n",
       "1       Gasoline                               3.8L V6 24V GDI DOHC   \n",
       "2       Gasoline                                     3.5 Liter DOHC   \n",
       "3         Hybrid  354.0HP 3.5L V6 Cylinder Engine Gas/Electric H...   \n",
       "4       Gasoline                         2.0L I4 16V GDI DOHC Turbo   \n",
       "\n",
       "        transmission                 ext_col int_col  \\\n",
       "0        6-Speed A/T                   Black   Black   \n",
       "1  8-Speed Automatic         Moonlight Cloud    Gray   \n",
       "2          Automatic                    Blue   Black   \n",
       "3        7-Speed A/T                   Black   Black   \n",
       "4  8-Speed Automatic  Glacier White Metallic   Black   \n",
       "\n",
       "                                 accident clean_title    price  \n",
       "0  At least 1 accident or damage reported         Yes  $10,300  \n",
       "1  At least 1 accident or damage reported         Yes  $38,005  \n",
       "2                           None reported         NaN  $54,598  \n",
       "3                           None reported         Yes  $15,500  \n",
       "4                           None reported         NaN  $34,999  "
      ]
     },
     "execution_count": 4,
     "metadata": {},
     "output_type": "execute_result"
    }
   ],
   "source": [
    "data.head()"
   ]
  },
  {
   "cell_type": "markdown",
   "id": "5123f24c",
   "metadata": {},
   "source": [
    "### Check the info of the data"
   ]
  },
  {
   "cell_type": "code",
   "execution_count": 5,
   "id": "b8b7b8f6",
   "metadata": {},
   "outputs": [
    {
     "name": "stdout",
     "output_type": "stream",
     "text": [
      "<class 'pandas.core.frame.DataFrame'>\n",
      "RangeIndex: 4009 entries, 0 to 4008\n",
      "Data columns (total 12 columns):\n",
      " #   Column        Non-Null Count  Dtype \n",
      "---  ------        --------------  ----- \n",
      " 0   brand         4009 non-null   object\n",
      " 1   model         4009 non-null   object\n",
      " 2   model_year    4009 non-null   int64 \n",
      " 3   milage        4009 non-null   object\n",
      " 4   fuel_type     3839 non-null   object\n",
      " 5   engine        4009 non-null   object\n",
      " 6   transmission  4009 non-null   object\n",
      " 7   ext_col       4009 non-null   object\n",
      " 8   int_col       4009 non-null   object\n",
      " 9   accident      3896 non-null   object\n",
      " 10  clean_title   3413 non-null   object\n",
      " 11  price         4009 non-null   object\n",
      "dtypes: int64(1), object(11)\n",
      "memory usage: 376.0+ KB\n"
     ]
    }
   ],
   "source": [
    "# Check for missing data and data types of columns\n",
    "data.info()"
   ]
  },
  {
   "cell_type": "markdown",
   "id": "2bd0f35c",
   "metadata": {},
   "source": [
    "**Observation**\n",
    "- There are 4099 rows and 12 columns in the data\n",
    "- We have missing values in fuel_type, accident and clean_title columns\n",
    "- The mileage and price columns are currently stored as string data types since they have units stored along with the values. We need to drop these units and transform these columns into numeric. \n",
    "- The model_year column is of numeric data type but is actually categorical. We can transform the model year into a new column representing the age of the car. We can also drop miles from mileage column values and convert these into numeric."
   ]
  },
  {
   "cell_type": "markdown",
   "id": "53b6964e",
   "metadata": {},
   "source": [
    "## 2. Pre-processing and EDA"
   ]
  },
  {
   "cell_type": "code",
   "execution_count": 6,
   "id": "37da60d5",
   "metadata": {},
   "outputs": [
    {
     "data": {
      "text/plain": [
       "57"
      ]
     },
     "execution_count": 6,
     "metadata": {},
     "output_type": "execute_result"
    }
   ],
   "source": [
    "data['brand'].nunique()"
   ]
  },
  {
   "cell_type": "code",
   "execution_count": 7,
   "id": "9f974720",
   "metadata": {},
   "outputs": [
    {
     "data": {
      "text/plain": [
       "1898"
      ]
     },
     "execution_count": 7,
     "metadata": {},
     "output_type": "execute_result"
    }
   ],
   "source": [
    "data['model'].nunique()"
   ]
  },
  {
   "cell_type": "markdown",
   "id": "d9fcd223",
   "metadata": {},
   "source": [
    "- The column 'model' is of object data type and contains a lot of unique values, hence we can drop this column as they don't add much value to our analysis."
   ]
  },
  {
   "cell_type": "code",
   "execution_count": 8,
   "id": "efb29bbc",
   "metadata": {},
   "outputs": [],
   "source": [
    "# Drop the car model column for our analysis\n",
    "data_copy = data.copy()\n",
    "data = data.drop('model', axis = 1)"
   ]
  },
  {
   "cell_type": "markdown",
   "id": "de3c8389",
   "metadata": {},
   "source": [
    "### 2.1 Convert accident column to numeric"
   ]
  },
  {
   "cell_type": "code",
   "execution_count": 9,
   "id": "62ad0918",
   "metadata": {},
   "outputs": [
    {
     "data": {
      "text/plain": [
       "array(['At least 1 accident or damage reported', 'None reported', nan],\n",
       "      dtype=object)"
      ]
     },
     "execution_count": 9,
     "metadata": {},
     "output_type": "execute_result"
    }
   ],
   "source": [
    "data['accident'].unique()"
   ]
  },
  {
   "cell_type": "code",
   "execution_count": 10,
   "id": "c7d99887",
   "metadata": {},
   "outputs": [
    {
     "data": {
      "text/plain": [
       "113"
      ]
     },
     "execution_count": 10,
     "metadata": {},
     "output_type": "execute_result"
    }
   ],
   "source": [
    "# Check the missing value count in accident column\n",
    "data['accident'].isna().sum()"
   ]
  },
  {
   "cell_type": "code",
   "execution_count": 11,
   "id": "b0785441",
   "metadata": {},
   "outputs": [],
   "source": [
    "def convert_accident_to_numeric(text):\n",
    "    if text == 'None reported':\n",
    "        return 0\n",
    "    elif text == 'At least 1 accident or damage reported':\n",
    "        return 1\n",
    "    else:\n",
    "        return np.nan"
   ]
  },
  {
   "cell_type": "code",
   "execution_count": 12,
   "id": "28db54d6",
   "metadata": {},
   "outputs": [],
   "source": [
    "data['accident'] = data['accident'].apply(convert_accident_to_numeric)"
   ]
  },
  {
   "cell_type": "code",
   "execution_count": 13,
   "id": "b33ed72e",
   "metadata": {},
   "outputs": [
    {
     "name": "stdout",
     "output_type": "stream",
     "text": [
      "Number of cars with accidents reported =  986\n"
     ]
    },
    {
     "data": {
      "text/plain": [
       "24.59"
      ]
     },
     "execution_count": 13,
     "metadata": {},
     "output_type": "execute_result"
    }
   ],
   "source": [
    "cars_with_accident = (data['accident'] == 1).sum()\n",
    "print('Number of cars with accidents reported = ',cars_with_accident)\n",
    "round((cars_with_accident / data.shape[0]) * 100,2)"
   ]
  },
  {
   "cell_type": "code",
   "execution_count": 14,
   "id": "29e37222",
   "metadata": {},
   "outputs": [
    {
     "name": "stdout",
     "output_type": "stream",
     "text": [
      "Number of cars with no accidents reported =  2910\n"
     ]
    },
    {
     "data": {
      "text/plain": [
       "72.59"
      ]
     },
     "execution_count": 14,
     "metadata": {},
     "output_type": "execute_result"
    }
   ],
   "source": [
    "cars_without_accident = (data['accident'] == 0).sum()\n",
    "print('Number of cars with no accidents reported = ',cars_without_accident)\n",
    "round((cars_without_accident / data.shape[0]) * 100,2)"
   ]
  },
  {
   "cell_type": "markdown",
   "id": "f6c1c17e",
   "metadata": {},
   "source": [
    "- 24.6% of cars have at least 1 accident reported and \n",
    "- 72.6% cars have no accidents reported"
   ]
  },
  {
   "cell_type": "markdown",
   "id": "934f26da",
   "metadata": {},
   "source": [
    "### 2.2 Convert price and mileage columns to numeric"
   ]
  },
  {
   "cell_type": "code",
   "execution_count": 15,
   "id": "bf9934cf",
   "metadata": {},
   "outputs": [],
   "source": [
    "def convert_to_numeric(value):\n",
    "    if 'mi.' in value:\n",
    "        mileage = value.replace('mi.', '').replace(',', '').strip()\n",
    "        return float(mileage)\n",
    "    elif '$' in value:\n",
    "        price = value.replace('$', '').replace(',', '').strip()\n",
    "        return float(price)\n",
    "    else:\n",
    "        return -1"
   ]
  },
  {
   "cell_type": "code",
   "execution_count": 16,
   "id": "09549a1d",
   "metadata": {},
   "outputs": [],
   "source": [
    "# Convert milage column to numeric and drop the original column\n",
    "data['mileage'] = data['milage'].apply(convert_to_numeric)\n",
    "data = data.drop('milage', axis = 1)"
   ]
  },
  {
   "cell_type": "code",
   "execution_count": 17,
   "id": "63652b88",
   "metadata": {},
   "outputs": [],
   "source": [
    "data['price'] = data['price'].apply(convert_to_numeric)"
   ]
  },
  {
   "cell_type": "markdown",
   "id": "699aed72",
   "metadata": {},
   "source": [
    "### 2.3 Convert model_year column to age column"
   ]
  },
  {
   "cell_type": "code",
   "execution_count": 18,
   "id": "028900b1",
   "metadata": {},
   "outputs": [],
   "source": [
    "def convert_year_to_age(model_year):\n",
    "    return datetime.datetime.now().year - model_year"
   ]
  },
  {
   "cell_type": "code",
   "execution_count": 19,
   "id": "8e2ca1eb",
   "metadata": {},
   "outputs": [],
   "source": [
    "data['age'] = data['model_year'].apply(convert_year_to_age)\n",
    "data = data.drop('model_year', axis = 1)"
   ]
  },
  {
   "cell_type": "code",
   "execution_count": 20,
   "id": "21fcbc68",
   "metadata": {},
   "outputs": [
    {
     "data": {
      "text/html": [
       "<div>\n",
       "<style scoped>\n",
       "    .dataframe tbody tr th:only-of-type {\n",
       "        vertical-align: middle;\n",
       "    }\n",
       "\n",
       "    .dataframe tbody tr th {\n",
       "        vertical-align: top;\n",
       "    }\n",
       "\n",
       "    .dataframe thead th {\n",
       "        text-align: right;\n",
       "    }\n",
       "</style>\n",
       "<table border=\"1\" class=\"dataframe\">\n",
       "  <thead>\n",
       "    <tr style=\"text-align: right;\">\n",
       "      <th></th>\n",
       "      <th>brand</th>\n",
       "      <th>fuel_type</th>\n",
       "      <th>engine</th>\n",
       "      <th>transmission</th>\n",
       "      <th>ext_col</th>\n",
       "      <th>int_col</th>\n",
       "      <th>accident</th>\n",
       "      <th>clean_title</th>\n",
       "      <th>price</th>\n",
       "      <th>mileage</th>\n",
       "      <th>age</th>\n",
       "    </tr>\n",
       "  </thead>\n",
       "  <tbody>\n",
       "    <tr>\n",
       "      <th>0</th>\n",
       "      <td>Ford</td>\n",
       "      <td>E85 Flex Fuel</td>\n",
       "      <td>300.0HP 3.7L V6 Cylinder Engine Flex Fuel Capa...</td>\n",
       "      <td>6-Speed A/T</td>\n",
       "      <td>Black</td>\n",
       "      <td>Black</td>\n",
       "      <td>1.0</td>\n",
       "      <td>Yes</td>\n",
       "      <td>10300.0</td>\n",
       "      <td>51000.0</td>\n",
       "      <td>11</td>\n",
       "    </tr>\n",
       "    <tr>\n",
       "      <th>1</th>\n",
       "      <td>Hyundai</td>\n",
       "      <td>Gasoline</td>\n",
       "      <td>3.8L V6 24V GDI DOHC</td>\n",
       "      <td>8-Speed Automatic</td>\n",
       "      <td>Moonlight Cloud</td>\n",
       "      <td>Gray</td>\n",
       "      <td>1.0</td>\n",
       "      <td>Yes</td>\n",
       "      <td>38005.0</td>\n",
       "      <td>34742.0</td>\n",
       "      <td>3</td>\n",
       "    </tr>\n",
       "    <tr>\n",
       "      <th>2</th>\n",
       "      <td>Lexus</td>\n",
       "      <td>Gasoline</td>\n",
       "      <td>3.5 Liter DOHC</td>\n",
       "      <td>Automatic</td>\n",
       "      <td>Blue</td>\n",
       "      <td>Black</td>\n",
       "      <td>0.0</td>\n",
       "      <td>NaN</td>\n",
       "      <td>54598.0</td>\n",
       "      <td>22372.0</td>\n",
       "      <td>2</td>\n",
       "    </tr>\n",
       "    <tr>\n",
       "      <th>3</th>\n",
       "      <td>INFINITI</td>\n",
       "      <td>Hybrid</td>\n",
       "      <td>354.0HP 3.5L V6 Cylinder Engine Gas/Electric H...</td>\n",
       "      <td>7-Speed A/T</td>\n",
       "      <td>Black</td>\n",
       "      <td>Black</td>\n",
       "      <td>0.0</td>\n",
       "      <td>Yes</td>\n",
       "      <td>15500.0</td>\n",
       "      <td>88900.0</td>\n",
       "      <td>9</td>\n",
       "    </tr>\n",
       "    <tr>\n",
       "      <th>4</th>\n",
       "      <td>Audi</td>\n",
       "      <td>Gasoline</td>\n",
       "      <td>2.0L I4 16V GDI DOHC Turbo</td>\n",
       "      <td>8-Speed Automatic</td>\n",
       "      <td>Glacier White Metallic</td>\n",
       "      <td>Black</td>\n",
       "      <td>0.0</td>\n",
       "      <td>NaN</td>\n",
       "      <td>34999.0</td>\n",
       "      <td>9835.0</td>\n",
       "      <td>3</td>\n",
       "    </tr>\n",
       "  </tbody>\n",
       "</table>\n",
       "</div>"
      ],
      "text/plain": [
       "      brand      fuel_type                                             engine  \\\n",
       "0      Ford  E85 Flex Fuel  300.0HP 3.7L V6 Cylinder Engine Flex Fuel Capa...   \n",
       "1   Hyundai       Gasoline                               3.8L V6 24V GDI DOHC   \n",
       "2     Lexus       Gasoline                                     3.5 Liter DOHC   \n",
       "3  INFINITI         Hybrid  354.0HP 3.5L V6 Cylinder Engine Gas/Electric H...   \n",
       "4      Audi       Gasoline                         2.0L I4 16V GDI DOHC Turbo   \n",
       "\n",
       "        transmission                 ext_col int_col  accident clean_title  \\\n",
       "0        6-Speed A/T                   Black   Black       1.0         Yes   \n",
       "1  8-Speed Automatic         Moonlight Cloud    Gray       1.0         Yes   \n",
       "2          Automatic                    Blue   Black       0.0         NaN   \n",
       "3        7-Speed A/T                   Black   Black       0.0         Yes   \n",
       "4  8-Speed Automatic  Glacier White Metallic   Black       0.0         NaN   \n",
       "\n",
       "     price  mileage  age  \n",
       "0  10300.0  51000.0   11  \n",
       "1  38005.0  34742.0    3  \n",
       "2  54598.0  22372.0    2  \n",
       "3  15500.0  88900.0    9  \n",
       "4  34999.0   9835.0    3  "
      ]
     },
     "execution_count": 20,
     "metadata": {},
     "output_type": "execute_result"
    }
   ],
   "source": [
    "data.head()"
   ]
  },
  {
   "cell_type": "markdown",
   "id": "caf848d3",
   "metadata": {},
   "source": [
    "### 2.4 Convert fuel_type column to numerical type"
   ]
  },
  {
   "cell_type": "code",
   "execution_count": 21,
   "id": "220904a9",
   "metadata": {},
   "outputs": [
    {
     "data": {
      "text/plain": [
       "array(['E85 Flex Fuel', 'Gasoline', 'Hybrid', nan, 'Diesel',\n",
       "       'Plug-In Hybrid', '–', 'not supported'], dtype=object)"
      ]
     },
     "execution_count": 21,
     "metadata": {},
     "output_type": "execute_result"
    }
   ],
   "source": [
    "data['fuel_type'].unique()"
   ]
  },
  {
   "cell_type": "code",
   "execution_count": 22,
   "id": "16f75c20",
   "metadata": {},
   "outputs": [
    {
     "data": {
      "text/plain": [
       "7"
      ]
     },
     "execution_count": 22,
     "metadata": {},
     "output_type": "execute_result"
    }
   ],
   "source": [
    "data['fuel_type'].nunique()"
   ]
  },
  {
   "cell_type": "markdown",
   "id": "e8cb98de",
   "metadata": {},
   "source": [
    "### 2.5 Drop clean_title column and missing values in accident and fuel_type columns"
   ]
  },
  {
   "cell_type": "markdown",
   "id": "dbe20f6c",
   "metadata": {},
   "source": [
    "**Check the count and percentage of missing values in the dataset**"
   ]
  },
  {
   "cell_type": "code",
   "execution_count": 23,
   "id": "759f1641",
   "metadata": {},
   "outputs": [
    {
     "data": {
      "text/plain": [
       "brand             0\n",
       "fuel_type       170\n",
       "engine            0\n",
       "transmission      0\n",
       "ext_col           0\n",
       "int_col           0\n",
       "accident        113\n",
       "clean_title     596\n",
       "price             0\n",
       "mileage           0\n",
       "age               0\n",
       "dtype: int64"
      ]
     },
     "execution_count": 23,
     "metadata": {},
     "output_type": "execute_result"
    }
   ],
   "source": [
    "data.isna().sum()"
   ]
  },
  {
   "cell_type": "code",
   "execution_count": 24,
   "id": "394f3e63",
   "metadata": {},
   "outputs": [
    {
     "data": {
      "text/plain": [
       "brand            0.000000\n",
       "fuel_type        4.240459\n",
       "engine           0.000000\n",
       "transmission     0.000000\n",
       "ext_col          0.000000\n",
       "int_col          0.000000\n",
       "accident         2.818658\n",
       "clean_title     14.866550\n",
       "price            0.000000\n",
       "mileage          0.000000\n",
       "age              0.000000\n",
       "dtype: float64"
      ]
     },
     "execution_count": 24,
     "metadata": {},
     "output_type": "execute_result"
    }
   ],
   "source": [
    "data.isnull().mean() * 100"
   ]
  },
  {
   "cell_type": "code",
   "execution_count": 25,
   "id": "9f54acf7",
   "metadata": {},
   "outputs": [
    {
     "data": {
      "text/plain": [
       "(3730, 11)"
      ]
     },
     "execution_count": 25,
     "metadata": {},
     "output_type": "execute_result"
    }
   ],
   "source": [
    "# Drop the rows where accident and fuel_type columns have missing values\n",
    "data1 = data.dropna(subset = ['accident', 'fuel_type'])\n",
    "data1.shape"
   ]
  },
  {
   "cell_type": "code",
   "execution_count": 26,
   "id": "6cc024f2",
   "metadata": {},
   "outputs": [
    {
     "data": {
      "text/plain": [
       "461"
      ]
     },
     "execution_count": 26,
     "metadata": {},
     "output_type": "execute_result"
    }
   ],
   "source": [
    "# Check the missing value count in clean_title column after this step\n",
    "data1['clean_title'].isna().sum()"
   ]
  },
  {
   "cell_type": "markdown",
   "id": "79b62608",
   "metadata": {},
   "source": [
    "- The number of missing values have reduced after the previous step. But we cannot drop all these rows as they comprise a major portion of our data. We will drop this column instead. "
   ]
  },
  {
   "cell_type": "code",
   "execution_count": 27,
   "id": "ac794f59",
   "metadata": {},
   "outputs": [],
   "source": [
    "# We are also dropping the milage column as we have already created new mileage column after removing the units\n",
    "data1 = data1.drop('clean_title', axis = 1)"
   ]
  },
  {
   "cell_type": "code",
   "execution_count": 28,
   "id": "42465561",
   "metadata": {},
   "outputs": [
    {
     "data": {
      "text/plain": [
       "(3730, 10)"
      ]
     },
     "execution_count": 28,
     "metadata": {},
     "output_type": "execute_result"
    }
   ],
   "source": [
    "data1.shape"
   ]
  },
  {
   "cell_type": "code",
   "execution_count": 29,
   "id": "78afaae1",
   "metadata": {},
   "outputs": [
    {
     "name": "stdout",
     "output_type": "stream",
     "text": [
      "<class 'pandas.core.frame.DataFrame'>\n",
      "Int64Index: 3730 entries, 0 to 4008\n",
      "Data columns (total 10 columns):\n",
      " #   Column        Non-Null Count  Dtype  \n",
      "---  ------        --------------  -----  \n",
      " 0   brand         3730 non-null   object \n",
      " 1   fuel_type     3730 non-null   object \n",
      " 2   engine        3730 non-null   object \n",
      " 3   transmission  3730 non-null   object \n",
      " 4   ext_col       3730 non-null   object \n",
      " 5   int_col       3730 non-null   object \n",
      " 6   accident      3730 non-null   float64\n",
      " 7   price         3730 non-null   float64\n",
      " 8   mileage       3730 non-null   float64\n",
      " 9   age           3730 non-null   int64  \n",
      "dtypes: float64(3), int64(1), object(6)\n",
      "memory usage: 320.5+ KB\n"
     ]
    }
   ],
   "source": [
    "# Lets check the data type and missing count \n",
    "data1.info()"
   ]
  },
  {
   "cell_type": "markdown",
   "id": "eb5f3cd6",
   "metadata": {},
   "source": [
    "- After cleaning, data has 3,730 rows and 10 columns"
   ]
  },
  {
   "cell_type": "markdown",
   "id": "6dc16a00",
   "metadata": {},
   "source": [
    "### 2.6 Summary Statistics"
   ]
  },
  {
   "cell_type": "code",
   "execution_count": 30,
   "id": "a2fa00da",
   "metadata": {},
   "outputs": [
    {
     "data": {
      "text/html": [
       "<div>\n",
       "<style scoped>\n",
       "    .dataframe tbody tr th:only-of-type {\n",
       "        vertical-align: middle;\n",
       "    }\n",
       "\n",
       "    .dataframe tbody tr th {\n",
       "        vertical-align: top;\n",
       "    }\n",
       "\n",
       "    .dataframe thead th {\n",
       "        text-align: right;\n",
       "    }\n",
       "</style>\n",
       "<table border=\"1\" class=\"dataframe\">\n",
       "  <thead>\n",
       "    <tr style=\"text-align: right;\">\n",
       "      <th></th>\n",
       "      <th>count</th>\n",
       "      <th>mean</th>\n",
       "      <th>std</th>\n",
       "      <th>min</th>\n",
       "      <th>25%</th>\n",
       "      <th>50%</th>\n",
       "      <th>75%</th>\n",
       "      <th>max</th>\n",
       "    </tr>\n",
       "  </thead>\n",
       "  <tbody>\n",
       "    <tr>\n",
       "      <th>accident</th>\n",
       "      <td>3730.0</td>\n",
       "      <td>0.262198</td>\n",
       "      <td>0.439889</td>\n",
       "      <td>0.0</td>\n",
       "      <td>0.00</td>\n",
       "      <td>0.0</td>\n",
       "      <td>1.00</td>\n",
       "      <td>1.0</td>\n",
       "    </tr>\n",
       "    <tr>\n",
       "      <th>price</th>\n",
       "      <td>3730.0</td>\n",
       "      <td>43980.914745</td>\n",
       "      <td>81022.327768</td>\n",
       "      <td>2000.0</td>\n",
       "      <td>16777.50</td>\n",
       "      <td>30000.0</td>\n",
       "      <td>48500.00</td>\n",
       "      <td>2954083.0</td>\n",
       "    </tr>\n",
       "    <tr>\n",
       "      <th>mileage</th>\n",
       "      <td>3730.0</td>\n",
       "      <td>66901.512332</td>\n",
       "      <td>52677.339854</td>\n",
       "      <td>100.0</td>\n",
       "      <td>24795.25</td>\n",
       "      <td>55167.0</td>\n",
       "      <td>96475.25</td>\n",
       "      <td>405000.0</td>\n",
       "    </tr>\n",
       "    <tr>\n",
       "      <th>age</th>\n",
       "      <td>3730.0</td>\n",
       "      <td>8.700268</td>\n",
       "      <td>6.104940</td>\n",
       "      <td>0.0</td>\n",
       "      <td>4.00</td>\n",
       "      <td>7.0</td>\n",
       "      <td>12.00</td>\n",
       "      <td>50.0</td>\n",
       "    </tr>\n",
       "  </tbody>\n",
       "</table>\n",
       "</div>"
      ],
      "text/plain": [
       "           count          mean           std     min       25%      50%  \\\n",
       "accident  3730.0      0.262198      0.439889     0.0      0.00      0.0   \n",
       "price     3730.0  43980.914745  81022.327768  2000.0  16777.50  30000.0   \n",
       "mileage   3730.0  66901.512332  52677.339854   100.0  24795.25  55167.0   \n",
       "age       3730.0      8.700268      6.104940     0.0      4.00      7.0   \n",
       "\n",
       "               75%        max  \n",
       "accident      1.00        1.0  \n",
       "price     48500.00  2954083.0  \n",
       "mileage   96475.25   405000.0  \n",
       "age          12.00       50.0  "
      ]
     },
     "execution_count": 30,
     "metadata": {},
     "output_type": "execute_result"
    }
   ],
   "source": [
    "data1.describe().T"
   ]
  },
  {
   "cell_type": "markdown",
   "id": "c49bd1ff",
   "metadata": {},
   "source": [
    "**Observation**\n",
    "- Average price of car is around 44,000. Standard deviation is large (81K) which shows high variation in prices\n",
    "- Price column has extreme outliers as the maximum price is much higher than 75th percentile \n",
    "- Average mileage is around 67,000\n",
    "- Average age of car is 8.7 years\n",
    "- Accident column has only 0 and 1 values corresponding to no accidents and at least 1 accident"
   ]
  },
  {
   "cell_type": "code",
   "execution_count": 31,
   "id": "ae6119bf",
   "metadata": {},
   "outputs": [
    {
     "name": "stdout",
     "output_type": "stream",
     "text": [
      "price\n",
      "Skew : 19.24\n"
     ]
    },
    {
     "data": {
      "image/png": "[encoded data removed]",
      "text/plain": [
       "<Figure size 1500x400 with 2 Axes>"
      ]
     },
     "metadata": {},
     "output_type": "display_data"
    },
    {
     "name": "stdout",
     "output_type": "stream",
     "text": [
      "mileage\n",
      "Skew : 1.12\n"
     ]
    },
    {
     "data": {
      "image/png": "[encoded data removed]",
      "text/plain": [
       "<Figure size 1500x400 with 2 Axes>"
      ]
     },
     "metadata": {},
     "output_type": "display_data"
    },
    {
     "name": "stdout",
     "output_type": "stream",
     "text": [
      "age\n",
      "Skew : 1.06\n"
     ]
    },
    {
     "data": {
      "image/png": "[encoded data removed]",
      "text/plain": [
       "<Figure size 1500x400 with 2 Axes>"
      ]
     },
     "metadata": {},
     "output_type": "display_data"
    }
   ],
   "source": [
    "for col in ['price', 'mileage', 'age']:\n",
    "    print(col)\n",
    "    print('Skew :',round(data1[col].skew(),2))\n",
    "    \n",
    "    # Plotting\n",
    "    plt.figure(figsize=(15,4))\n",
    "    \n",
    "    # Histogram\n",
    "    plt.subplot(1,2,1)\n",
    "    data1[col].hist(bins=5, grid=False, color='skyblue', edgecolor='black')\n",
    "    plt.ylabel('count')\n",
    "    plt.title(f'Histogram of {col}')\n",
    "    \n",
    "    # Boxplot\n",
    "    plt.subplot(1,2,2)\n",
    "    sns.boxplot(x=data1[col])\n",
    "    plt.title(f'Boxplot of {col}')\n",
    "    \n",
    "    plt.tight_layout()\n",
    "    plt.show()"
   ]
  },
  {
   "cell_type": "markdown",
   "id": "011be370",
   "metadata": {},
   "source": [
    "**Observation**\n",
    "- Price column is extremely right skewed and has many outliers\n",
    "- Mileage and age columns are right skewed\n",
    "- "
   ]
  },
  {
   "cell_type": "markdown",
   "id": "4c51da19",
   "metadata": {},
   "source": [
    "### 2.7 Correlation Analysis    "
   ]
  },
  {
   "cell_type": "code",
   "execution_count": 32,
   "id": "383347b1",
   "metadata": {},
   "outputs": [
    {
     "data": {
      "image/png": "[encoded data removed]",
      "text/plain": [
       "<Figure size 800x800 with 2 Axes>"
      ]
     },
     "metadata": {},
     "output_type": "display_data"
    }
   ],
   "source": [
    "plt.figure(figsize=(8,8))\n",
    "sns.heatmap(data1.corr(), annot=True)\n",
    "plt.show()"
   ]
  },
  {
   "cell_type": "markdown",
   "id": "6d8c63d5",
   "metadata": {},
   "source": [
    "**Observation**\n",
    "- Price has negative correlation with mileage and age\n",
    "- Mileage has positive correlation with age (Older the car, higher the mileage)"
   ]
  },
  {
   "cell_type": "markdown",
   "id": "9481f2ca",
   "metadata": {},
   "source": [
    "## Scaling the data"
   ]
  },
  {
   "cell_type": "code",
   "execution_count": 33,
   "id": "15e6e2cf",
   "metadata": {},
   "outputs": [
    {
     "data": {
      "text/plain": [
       "Index(['brand', 'fuel_type', 'engine', 'transmission', 'ext_col', 'int_col',\n",
       "       'accident', 'price', 'mileage', 'age'],\n",
       "      dtype='object')"
      ]
     },
     "execution_count": 33,
     "metadata": {},
     "output_type": "execute_result"
    }
   ],
   "source": [
    "data1.columns"
   ]
  },
  {
   "cell_type": "code",
   "execution_count": 34,
   "id": "a3adc487",
   "metadata": {},
   "outputs": [],
   "source": [
    "# Drop the categorical column before standardising the numerical columns\n",
    "data1 = data1.drop(columns = ['brand', 'fuel_type', 'engine', 'transmission', 'ext_col', 'int_col',\n",
    "       'accident'], axis = 1)"
   ]
  },
  {
   "cell_type": "code",
   "execution_count": 35,
   "id": "186dac21",
   "metadata": {},
   "outputs": [],
   "source": [
    "# scaling the data\n",
    "scaler=StandardScaler()\n",
    "data_scaled=pd.DataFrame(scaler.fit_transform(data1), columns=data1.columns)"
   ]
  },
  {
   "cell_type": "code",
   "execution_count": 36,
   "id": "8efb6bf3",
   "metadata": {},
   "outputs": [
    {
     "data": {
      "text/html": [
       "<div>\n",
       "<style scoped>\n",
       "    .dataframe tbody tr th:only-of-type {\n",
       "        vertical-align: middle;\n",
       "    }\n",
       "\n",
       "    .dataframe tbody tr th {\n",
       "        vertical-align: top;\n",
       "    }\n",
       "\n",
       "    .dataframe thead th {\n",
       "        text-align: right;\n",
       "    }\n",
       "</style>\n",
       "<table border=\"1\" class=\"dataframe\">\n",
       "  <thead>\n",
       "    <tr style=\"text-align: right;\">\n",
       "      <th></th>\n",
       "      <th>price</th>\n",
       "      <th>mileage</th>\n",
       "      <th>age</th>\n",
       "    </tr>\n",
       "  </thead>\n",
       "  <tbody>\n",
       "    <tr>\n",
       "      <th>0</th>\n",
       "      <td>-0.415755</td>\n",
       "      <td>-0.301907</td>\n",
       "      <td>0.376751</td>\n",
       "    </tr>\n",
       "    <tr>\n",
       "      <th>1</th>\n",
       "      <td>-0.073766</td>\n",
       "      <td>-0.610582</td>\n",
       "      <td>-0.933839</td>\n",
       "    </tr>\n",
       "    <tr>\n",
       "      <th>2</th>\n",
       "      <td>0.131057</td>\n",
       "      <td>-0.845439</td>\n",
       "      <td>-1.097663</td>\n",
       "    </tr>\n",
       "    <tr>\n",
       "      <th>3</th>\n",
       "      <td>-0.351566</td>\n",
       "      <td>0.417664</td>\n",
       "      <td>0.049103</td>\n",
       "    </tr>\n",
       "    <tr>\n",
       "      <th>4</th>\n",
       "      <td>-0.110872</td>\n",
       "      <td>-1.083467</td>\n",
       "      <td>-0.933839</td>\n",
       "    </tr>\n",
       "  </tbody>\n",
       "</table>\n",
       "</div>"
      ],
      "text/plain": [
       "      price   mileage       age\n",
       "0 -0.415755 -0.301907  0.376751\n",
       "1 -0.073766 -0.610582 -0.933839\n",
       "2  0.131057 -0.845439 -1.097663\n",
       "3 -0.351566  0.417664  0.049103\n",
       "4 -0.110872 -1.083467 -0.933839"
      ]
     },
     "execution_count": 36,
     "metadata": {},
     "output_type": "execute_result"
    }
   ],
   "source": [
    "data_scaled.head()"
   ]
  },
  {
   "cell_type": "code",
   "execution_count": null,
   "id": "8ba89217",
   "metadata": {},
   "outputs": [],
   "source": []
  }
 ],
 "metadata": {
  "kernelspec": {
   "display_name": "Python 3 (ipykernel)",
   "language": "python",
   "name": "python3"
  },
  "language_info": {
   "codemirror_mode": {
    "name": "ipython",
    "version": 3
   },
   "file_extension": ".py",
   "mimetype": "text/x-python",
   "name": "python",
   "nbconvert_exporter": "python",
   "pygments_lexer": "ipython3",
   "version": "3.9.13"
  }
 },
 "nbformat": 4,
 "nbformat_minor": 5
}
